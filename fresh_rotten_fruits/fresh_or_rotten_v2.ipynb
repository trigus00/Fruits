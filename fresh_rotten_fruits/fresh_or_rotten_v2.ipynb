{
 "cells": [
  {
   "cell_type": "code",
   "execution_count": 1,
   "metadata": {},
   "outputs": [
    {
     "name": "stderr",
     "output_type": "stream",
     "text": [
      "Using TensorFlow backend.\n"
     ]
    },
    {
     "name": "stdout",
     "output_type": "stream",
     "text": [
      "c:\\users\\shahz\\appdata\\local\\programs\\python\\python37\\lib\\site-packages\\PIL\\Image.py\n"
     ]
    }
   ],
   "source": [
    "import tensorflow as tf\n",
    "import keras as k\n",
    "from tensorflow.keras.preprocessing import image\n",
    "from keras.preprocessing.image import ImageDataGenerator\n",
    "from keras.models import Sequential\n",
    "from keras.layers import Conv2D, MaxPooling2D, Flatten, Dense, Dropout, InputLayer, GlobalAveragePooling2D\n",
    "from keras.layers import MaxPooling2D\n",
    "from keras.layers import Flatten\n",
    "from keras.layers import Dense, Dropout\n",
    "from keras.models import model_from_json\n",
    "from tensorflow.keras.models import load_model\n",
    "from tensorflow.keras.optimizers import Adam\n",
    "from keras.callbacks import EarlyStopping, ModelCheckpoint\n",
    "import numpy as np\n",
    "# import matplotlib.pyplot as plt\n",
    "import matplotlib as mpl\n",
    "mpl.rcParams['axes.titlesize'] = 8\n",
    "import h5py\n",
    "import glob\n",
    "import cv2\n",
    "import os\n",
    "\n",
    "from datetime import date\n",
    "from PIL import Image\n",
    "print(Image.__file__)\n",
    "from sklearn.preprocessing import LabelEncoder\n",
    "\n",
    "from keras.applications import VGG16\n",
    "from keras.models import Model\n",
    "from keras import optimizers"
   ]
  },
  {
   "cell_type": "code",
   "execution_count": 2,
   "metadata": {},
   "outputs": [],
   "source": [
    "# SIZE = 256\n",
    "# EPOCHS = 10\n",
    "# BATCH_SIZE = 16\n",
    "\n",
    "# SIZE = 256\n",
    "# EPOCHS = 150\n",
    "# BATCH_SIZE = 32\n",
    "\n",
    "INPUT_SHAPE = (224, 224, 3)\n",
    "BATCH_SIZE = 32\n",
    "TARGET_SIZE = INPUT_SHAPE[:2]\n",
    "EPOCHS = 3\n",
    "\n",
    "BASE_DIR_PATH = './data/'\n",
    "MODEL_FILENAME = 'model_fruit_fresh_rotten'\n",
    "PATH_TO_TRAINED_MODEL_FILE = './model/' + MODEL_FILENAME + '.h5'\n",
    "\n",
    "vgg16_model = VGG16(include_top=False, weights='imagenet', input_shape=INPUT_SHAPE)\n"
   ]
  },
  {
   "cell_type": "code",
   "execution_count": 3,
   "metadata": {},
   "outputs": [],
   "source": [
    "#build path to base dir\n",
    "base_dir_path = BASE_DIR_PATH\n",
    "#build path to train dir\n",
    "train_dir_path = os.path.join(base_dir_path,'train')\n",
    "#build path to test dir\n",
    "test_dir_path = os.path.join(base_dir_path,'test')"
   ]
  },
  {
   "cell_type": "code",
   "execution_count": 4,
   "metadata": {},
   "outputs": [
    {
     "name": "stdout",
     "output_type": "stream",
     "text": [
      "./data/\n",
      "./data/train\n",
      "./data/test\n"
     ]
    }
   ],
   "source": [
    "print (base_dir_path)\n",
    "print(train_dir_path)\n",
    "print(test_dir_path)"
   ]
  },
  {
   "cell_type": "code",
   "execution_count": 5,
   "metadata": {},
   "outputs": [],
   "source": [
    "def readData():\n",
    "    \"\"\"\n",
    "    Console output of,\n",
    "        total number of classes in train/test dir\n",
    "        total number of images in train/test dir\n",
    "    in given dataset.\n",
    "    \n",
    "    Returns number of classes\n",
    "    \"\"\"\n",
    "    nb_of_train_files = 0\n",
    "    nb_of_test_files = 0\n",
    "    AllClassNames_train = os.listdir(train_dir_path)\n",
    "    AllClassNames_test = os.listdir(test_dir_path)\n",
    "    \n",
    "    print('Total Number of Classes in train DataSet: ', len(AllClassNames_train))\n",
    "    print('Total Number of Classes in test DataSet: ', len(AllClassNames_test))\n",
    "    \n",
    "    for class_name in AllClassNames_train:\n",
    "        nb_of_train_files = nb_of_train_files + len(os.listdir(os.path.join(train_dir_path, class_name)))\n",
    "        nb_of_test_files = nb_of_test_files + len(os.listdir(os.path.join(test_dir_path, class_name)))\n",
    "        \n",
    "    print('Total Number of train samples: ', nb_of_train_files)\n",
    "    print('Total Number of test samples:', nb_of_test_files)\n",
    "    \n",
    "    return len(AllClassNames_train)"
   ]
  },
  {
   "cell_type": "code",
   "execution_count": 6,
   "metadata": {},
   "outputs": [
    {
     "name": "stdout",
     "output_type": "stream",
     "text": [
      "Total Number of Classes in train DataSet:  6\n",
      "Total Number of Classes in test DataSet:  6\n",
      "Total Number of train samples:  10901\n",
      "Total Number of test samples: 2700\n",
      "6\n"
     ]
    }
   ],
   "source": [
    "num_of_classes = readData()\n",
    "print(num_of_classes)"
   ]
  },
  {
   "cell_type": "code",
   "execution_count": 7,
   "metadata": {},
   "outputs": [],
   "source": [
    "def understandData(train_or_test):\n",
    "    \"\"\"\n",
    "    Function prints number of images per class in train/test directory\n",
    "    <CLASS-NAME    NUMBER-OF-IMAGES>\n",
    "\n",
    "    Args:\n",
    "        train_or_test(str): directory to select train/test\n",
    "    \"\"\"\n",
    "    train_dir_path = os.path.join(BASE_DIR_PATH, train_or_test)\n",
    "    # test_dir_path = os.path.join(BASE_DIR_PATH,'test')\n",
    "    AllClassNames = os.listdir(train_dir_path)\n",
    "    print(\"Number of Classes = \", len(AllClassNames))\n",
    "    \n",
    "    # print(\"Class Names = \",AllClassNames)\n",
    "    print('CLASS NAME' + '\\t' + 'NUMBER OF IMAGES')\n",
    "    for class_name in AllClassNames:\n",
    "        print(class_name + '\\t', len(os.listdir(os.path.join(train_dir_path, class_name))))\n",
    "        \n",
    "    print(\"======================================================================\")\n",
    "    # displaySampleImages(train_dir_path,AllClassNames)\n",
    "    return len(AllClassNames)\n"
   ]
  },
  {
   "cell_type": "code",
   "execution_count": 8,
   "metadata": {},
   "outputs": [],
   "source": [
    "def getAllClassNames(dir_path):\n",
    "    \"\"\"\n",
    "        Returns list of all class names in given train/test dir path.\n",
    "    \"\"\"\n",
    "    return os.listdir(dir_path)\n",
    "\n",
    "\n",
    "def displaySampleImages(PATH_TO_DIR, ALL_CLASS_NAMES):\n",
    "    \"\"\"\n",
    "    Display grid of sample images for every class in dataset.\n",
    "\n",
    "    Args:\n",
    "        PATH_TO_DIR(str): path to train or test dir.\n",
    "        ALL_CLASS_NAMES(str): list of all class names.\n",
    "\n",
    "    \"\"\"\n",
    "    # NoOfClasses = len(ALL_CLASS_NAMES)\n",
    "    fig = plt.figure()\n",
    "    fig.subplots_adjust(hspace=0.7, wspace=0.1)\n",
    "    fig.suptitle('Understanding Fruit-360 Dataset', fontsize=16)\n",
    "    for n, class_name in enumerate(ALL_CLASS_NAMES):\n",
    "        ImagePath = glob.glob(os.path.join(PATH_TO_DIR, class_name) + '/*.jpg')[0]\n",
    "        # print(ImagePath)\n",
    "        Img = cv2.imread(ImagePath)\n",
    "        ax = fig.add_subplot(10, 10, (n + 1))\n",
    "        plt.imshow(cv2.cvtColor(Img, cv2.COLOR_BGR2RGB))\n",
    "        ax.set_title(class_name)\n",
    "        plt.axis('off')\n",
    "    plt.show()\n",
    "    return\n"
   ]
  },
  {
   "cell_type": "code",
   "execution_count": 9,
   "metadata": {},
   "outputs": [],
   "source": [
    "def compile_classify_model(num_of_classes):\n",
    "    model = Sequential()\n",
    "    model.add(vgg16_model)\n",
    "    model.add(GlobalAveragePooling2D())\n",
    "    model.add(Dense(units=16, activation='relu'))\n",
    "    model.add(Dense(units=6, activation='softmax'))\n",
    "    \n",
    "#     model.add(Dense(units=num_of_classes, activation='sigmoid'))\n",
    "#     ValueError: Error when checking target: expected dense_6 to have shape (6,) but got array with shape (1,)\n",
    "\n",
    "    model.compile(loss='binary_crossentropy',\n",
    "                  optimizer=optimizers.RMSprop(lr=1e-5),\n",
    "                  metrics=['accuracy'])\n",
    "    model.summary()\n",
    "    \n",
    "    return model\n",
    "\n",
    "#     classifier = Sequential()\n",
    "#     classifier.add(Conv2D(32, (3, 3), input_shape = (SIZE, SIZE, 3), activation = 'relu'))\n",
    "#     classifier.add(MaxPooling2D(pool_size = (2, 2)))\n",
    "#     #three layers of hidden \n",
    "\n",
    "#     classifier.add(Conv2D(64, (3, 3), activation = 'relu'))\n",
    "#     classifier.add(MaxPooling2D(pool_size = (2, 2)))\n",
    "#     classifier.add(Dropout(0.25))\n",
    "\n",
    "#     classifier.add(Conv2D(128, (3, 3), activation = 'relu'))\n",
    "#     classifier.add(MaxPooling2D(pool_size = (2, 2)))\n",
    "#     classifier.add(Dropout(0.25))\n",
    "\n",
    "#     classifier.add(Conv2D(256, (3, 3), activation = 'relu'))\n",
    "#     classifier.add(MaxPooling2D(pool_size = (2, 2)))\n",
    "#     classifier.add(Dropout(0.25))\n",
    "\n",
    "#     classifier.add(Conv2D(512, (3, 3), activation = 'relu'))\n",
    "#     classifier.add(MaxPooling2D(pool_size = (2, 2)))\n",
    "#     classifier.add(Dropout(0.25))\n",
    "\n",
    "#     classifier.add(Flatten())\n",
    "\n",
    "#     classifier.add(Dense(units = 128, activation = 'relu'))\n",
    "#     classifier.add(Dropout(0.25))\n",
    "#     classifier.add(Dense(units = 128, activation = 'relu'))\n",
    "#     classifier.add(Dropout(0.25))\n",
    "#     classifier.add(Dense(units = num_of_classes, activation = 'softmax'))\n",
    "#     classifier.compile(optimizer = 'adam', loss = 'categorical_crossentropy', metrics = ['accuracy'])\n",
    "#     #classfier.compile(optimizer = k.optimizers.RMSprop(lr = 1e-4, decay = 1e-6))\n",
    "#     classifier.summary()\n",
    "#     return classifier"
   ]
  },
  {
   "cell_type": "code",
   "execution_count": 10,
   "metadata": {},
   "outputs": [],
   "source": [
    "\n",
    "def train_classify_model(classify_model,\n",
    "                         batch_size = BATCH_SIZE, \n",
    "                         save_model_filename = MODEL_FILENAME, \n",
    "                         input_size = (BATCH_SIZE, BATCH_SIZE)):\n",
    "    \n",
    "    train_datagen = ImageDataGenerator(rescale=1./255, \n",
    "                                       zoom_range=0.3, \n",
    "                                       rotation_range=50,\n",
    "                                       width_shift_range=0.2, \n",
    "                                       height_shift_range=0.2, \n",
    "                                       shear_range=0.2, \n",
    "                                       horizontal_flip=True, \n",
    "                                       fill_mode='nearest')\n",
    "    \n",
    "    val_datagen = ImageDataGenerator(rescale = 1./255)\n",
    "\n",
    "    \n",
    "    train_generator = train_datagen.flow_from_directory(train_dir_path,\n",
    "                                                         target_size = TARGET_SIZE,\n",
    "                                                         batch_size = BATCH_SIZE,\n",
    "                                                         class_mode = 'categorical')\n",
    "#                                                       class_mode = 'binary')\n",
    "\n",
    "    val_generator = val_datagen.flow_from_directory(test_dir_path,\n",
    "                                                    target_size = TARGET_SIZE,\n",
    "                                                    batch_size = BATCH_SIZE,\n",
    "                                                    class_mode = 'categorical')\n",
    "#                                                     class_mode = 'binary')\n",
    "\n",
    "#     callback = [EarlyStopping(monitor='val_loss', patience=5),\n",
    "#                 ModelCheckpoint(\"fruits_checkpoints.h5\", monitor='val_loss', save_best_only = True)]\n",
    "    \n",
    "    #construct fit generator\n",
    "    history = classify_model.fit_generator(train_generator, epochs=EPOCHS, \n",
    "                                       steps_per_epoch = train_generator.n // BATCH_SIZE,\n",
    "                                       validation_data=val_generator,\n",
    "                                       validation_steps = val_generator.n // BATCH_SIZE,\n",
    "                                       verbose=1)\n",
    "    \n",
    "    class_dict = train_generator.class_indices\n",
    "    np.save('class_dict', class_dict)\n",
    "    trainedModel_Filename = SaveModelFile(classify_model, save_model_filename)\n",
    "    return history, trainedModel_Filename"
   ]
  },
  {
   "cell_type": "code",
   "execution_count": 11,
   "metadata": {},
   "outputs": [],
   "source": [
    "\n",
    "def plot_result(history):\n",
    "    acc = history.history['acc']\n",
    "    val_acc = history.history['val_acc']\n",
    "    loss = history.history['loss']\n",
    "    val_loss = history.history['val_loss']\n",
    "    epochs = range(1, len(acc) + 1)\n",
    "    plt.plot(epochs, acc, 'bo', label='Training acc')\n",
    "    plt.plot(epochs, val_acc, 'b', label='Validation acc')\n",
    "    plt.title('Training and validation accuracy')\n",
    "    plt.legend()\n",
    "    plt.figure()\n",
    "    plt.plot(epochs, loss, 'bo', label='Training loss')\n",
    "    plt.plot(epochs, val_loss, 'b', label='Validation loss')\n",
    "    plt.title('Training and validation loss')\n",
    "    plt.legend()\n",
    "    plt.show()\n",
    "    return\n",
    "\n",
    "def SaveModelFile(classify_model, save_model_filename):\n",
    "    \"\"\"\n",
    "    Saves trained classification model\n",
    "\n",
    "    Args:\n",
    "        ClassifyModel : trained classification Model\n",
    "        save_model_filename(str): filename, to save trained model,without extension.\n",
    "\n",
    "    Returns:\n",
    "        save_model_filename(str): filename with extension.\n",
    "    \"\"\"\n",
    "    today = date.today()\n",
    "    #date_str = today.strftime(\"%d%m%y\")\n",
    "    #save_model_filename = '_'.join([save_model_filename, date_str])\n",
    "    save_model_filename = save_model_filename + '.h5'\n",
    "    classify_model.save(save_model_filename)\n",
    "    print('Done Saving Model File...')\n",
    "    return save_model_filename\n",
    "\n",
    "def getTrainedModel(PATH_TO_TRAINED_MODEL_FILE):\n",
    "    \"\"\"\n",
    "    Loads trained-saved model from file(.h5) and returns as a object.\n",
    "\n",
    "    Args:\n",
    "        PATH_TO_TRAINED_MODEL_FILE(str): path to saved model file.\n",
    "\n",
    "    returns:\n",
    "        trainedModel(model object): returns a model saved as a <.h5>\n",
    "    \"\"\"\n",
    "    trainedModel = load_model(PATH_TO_TRAINED_MODEL_FILE)\n",
    "    return trainedModel\n",
    "\n"
   ]
  },
  {
   "cell_type": "code",
   "execution_count": null,
   "metadata": {},
   "outputs": [],
   "source": []
  },
  {
   "cell_type": "code",
   "execution_count": 12,
   "metadata": {},
   "outputs": [
    {
     "name": "stdout",
     "output_type": "stream",
     "text": [
      "Model: \"sequential_1\"\n",
      "_________________________________________________________________\n",
      "Layer (type)                 Output Shape              Param #   \n",
      "=================================================================\n",
      "vgg16 (Model)                (None, 7, 7, 512)         14714688  \n",
      "_________________________________________________________________\n",
      "global_average_pooling2d_1 ( (None, 512)               0         \n",
      "_________________________________________________________________\n",
      "dense_1 (Dense)              (None, 16)                8208      \n",
      "_________________________________________________________________\n",
      "dense_2 (Dense)              (None, 6)                 102       \n",
      "=================================================================\n",
      "Total params: 14,722,998\n",
      "Trainable params: 14,722,998\n",
      "Non-trainable params: 0\n",
      "_________________________________________________________________\n"
     ]
    }
   ],
   "source": [
    "#Compile classification model\n",
    "classifyModel=compile_classify_model(num_of_classes)"
   ]
  },
  {
   "cell_type": "code",
   "execution_count": 13,
   "metadata": {},
   "outputs": [],
   "source": [
    "#Start training model on train dataset\n",
    "\n",
    "training_history,trained_model_path = train_classify_model(classifyModel)\n"
   ]
  },
  {
   "cell_type": "raw",
   "metadata": {},
   "source": [
    "#Plot the training results\n",
    "\n",
    "plot_result(training_history)"
   ]
  },
  {
   "cell_type": "code",
   "execution_count": null,
   "metadata": {},
   "outputs": [],
   "source": []
  },
  {
   "cell_type": "code",
   "execution_count": 14,
   "metadata": {},
   "outputs": [],
   "source": [
    "def predictFruitClass(ImagePath, trainedModel, class_dict):\n",
    "    \"\"\"\n",
    "    Perform class prediction on input image and print predicted class.\n",
    "\n",
    "    Args:\n",
    "        ImagePath(str): Absolute Path to test image\n",
    "        trainedModel(object): trained model from method getTrainedModel()\n",
    "        DictOfClasses(dict): python dict of all image classes.\n",
    "\n",
    "    Returns:\n",
    "        Probability of predictions for each class.\n",
    "    \"\"\"\n",
    "    x = image.load_img(ImagePath, target_size=TARGET_SIZE)\n",
    "    x = image.img_to_array(x)\n",
    "    # for Display Only\n",
    "    import matplotlib.pyplot as plt\n",
    "    plt.imshow((x * 255).astype(np.uint8))\n",
    "    x = np.expand_dims(x, axis=0)\n",
    "    prediction_class = trainedModel.predict_classes(x, batch_size=1)\n",
    "    prediction_probs = trainedModel.predict_proba(x, batch_size=1)\n",
    "    print('probs:',prediction_probs)\n",
    "    print('class_index:',prediction_class[0])\n",
    "    for key, value in class_dict.items():\n",
    "        if value == prediction_class.item():\n",
    "            return key\n",
    "    return None\n",
    "    "
   ]
  },
  {
   "cell_type": "code",
   "execution_count": 15,
   "metadata": {},
   "outputs": [],
   "source": [
    "trained_model_path = PATH_TO_TRAINED_MODEL_FILE\n",
    "trained_model = getTrainedModel(trained_model_path)\n",
    "class_dict = np.load('class_dict.npy', allow_pickle=True).item()"
   ]
  },
  {
   "cell_type": "code",
   "execution_count": 16,
   "metadata": {},
   "outputs": [],
   "source": [
    "# from sklearn import metrics\n",
    "# print(metrics.confusion_matrix)"
   ]
  },
  {
   "cell_type": "code",
   "execution_count": 32,
   "metadata": {},
   "outputs": [
    {
     "name": "stdout",
     "output_type": "stream",
     "text": [
      "probs: [[0. 1. 0. 0. 0. 0.]]\n",
      "class_index: 1\n",
      "freshbanana\n"
     ]
    },
    {
     "data": {
      "image/png": "[encoded data removed]",
      "text/plain": [
       "<Figure size 432x288 with 1 Axes>"
      ]
     },
     "metadata": {
      "needs_background": "light"
     },
     "output_type": "display_data"
    }
   ],
   "source": [
    "#x image_path = './data/test/rottenapples/rotated_by_15_Screen Shot 2018-06-07 at 2.25.26 PM.png'\n",
    "#* image_path = './data/test/rottenapples/rotated_by_15_Screen Shot 2018-06-07 at 2.59.23 PM.png'\n",
    "\n",
    "# image_path = './data/test/rottenoranges/vertical_flip_Screen Shot 2018-06-12 at 11.22.41 PM.png'\n",
    "\n",
    "#x image_path = './data/test/rottenoranges/vertical_flip_Screen Shot 2018-06-12 at 11.42.56 PM.png'\n",
    "#* image_path = './data/test/freshbanana/rotated_by_75_Screen Shot 2018-06-12 at 9.39.58 PM.png'\n",
    "\n",
    "#* image_path = './data/test/rottenbanana/Screen Shot 2018-06-12 at 9.25.00 PM.png'\n",
    "#* image_path = './data/test/freshoranges/vertical_flip_Screen Shot 2018-06-13 at 12.20.06 AM.png'\n",
    "\n",
    "# *image_path = './data/test/freshoranges/rotated_by_75_Screen Shot 2018-06-13 at 12.17.31 AM.png'\n",
    "\n",
    "image_path = './data/test/test/ro12.jpg'\n",
    "\n",
    "single_pred = predictFruitClass(image_path,trained_model, class_dict)\n",
    "print(single_pred)\n"
   ]
  },
  {
   "cell_type": "code",
   "execution_count": null,
   "metadata": {},
   "outputs": [],
   "source": [
    "model_loss, model_accuracy = model.evaluate(\n",
    "    X_test_scaled, y_test_categorical, verbose=2)\n",
    "print(\n",
    "    f\"Normal Neural Network - Loss: {model_loss}, Accuracy: {model_accuracy}\")\n",
    "\n",
    "# def score(train_labels, train_features, test_labels, test_features, save_file, use_tree=False):\n",
    "#     if use_tree:\n",
    "#         train_clf = Classifier(tree.DecisionTreeClassifier())\n",
    "#     else:\n",
    "#         train_clf = Classifier()\n",
    "\n",
    "#     print train_clf.clf\n",
    "#     print ''\n",
    "\n",
    "#     t_start = time.clock()\n",
    "#     train_clf.learn(train_features, train_labels)\n",
    "#     t_end = time.clock()\n",
    "#     if save_file:\n",
    "#         train_clf.save_to_file(open(save_file, 'w'))\n",
    "\n",
    "#     p_start = time.clock()\n",
    "#     predicted = train_clf.clf.predict(test_features)\n",
    "#     p_end = time.clock()\n",
    "\n",
    "#     test_labels_t = train_clf.labels.transform(test_labels)\n",
    "#     print classification_report(test_labels_t, predicted, target_names=train_clf.labels.classes_)\n",
    "#     print 'Training time: %fs' % (t_end - t_start)\n",
    "#     print 'Predicting time: %fs' % (p_end - p_start)\n",
    "#     print 'Mean squared error: %f' % mean_squared_error(test_labels_t, predicted)\n",
    "#     return train_clf.score(test_features, test_labels)\n",
    "\n",
    "# Calculate classification report\n",
    "# from sklearn.metrics import classification_report\n",
    "# print(classification_report(y_test, predictions,\n",
    "#                             target_names=target_names))\n"
   ]
  }
 ],
 "metadata": {
  "kernelspec": {
   "display_name": "Python 3",
   "language": "python",
   "name": "python3"
  },
  "language_info": {
   "codemirror_mode": {
    "name": "ipython",
    "version": 3
   },
   "file_extension": ".py",
   "mimetype": "text/x-python",
   "name": "python",
   "nbconvert_exporter": "python",
   "pygments_lexer": "ipython3",
   "version": "3.7.3"
  }
 },
 "nbformat": 4,
 "nbformat_minor": 1
}
